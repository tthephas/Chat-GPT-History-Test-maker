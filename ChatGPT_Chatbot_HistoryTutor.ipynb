{
 "cells": [
  {
   "cell_type": "code",
   "execution_count": 3,
   "id": "ec27b4ab",
   "metadata": {},
   "outputs": [],
   "source": [
    "import os \n",
    "\n",
    "import openai \n",
    "\n",
    "openai.api_key = os.getenv('OPENAI_API_KEY') "
   ]
  },
  {
   "cell_type": "code",
   "execution_count": 9,
   "id": "2e8e6490",
   "metadata": {},
   "outputs": [],
   "source": [
    "response = openai.ChatCompletion.create(\n",
    "                            model='gpt-3.5-turbo',\n",
    "    messages=[\n",
    "        {'role':'system', 'content':'You are a US History Tutor'},\n",
    "        {'role':'user', 'content':'Who was the first US President?'},\n",
    "        {'role':'assistant', 'content':'The first US President was George Washington, who served from 1789-1797.'},\n",
    "        {'role':'user', 'content':'What year was he born?'}\n",
    "    ]\n",
    ")"
   ]
  },
  {
   "cell_type": "code",
   "execution_count": 10,
   "id": "0f301d23",
   "metadata": {},
   "outputs": [
    {
     "data": {
      "text/plain": [
       "'George Washington was born on February 22, 1732.'"
      ]
     },
     "execution_count": 10,
     "metadata": {},
     "output_type": "execute_result"
    }
   ],
   "source": [
    "response['choices'][0]['message']['content']"
   ]
  },
  {
   "cell_type": "code",
   "execution_count": 21,
   "id": "4e1078b2",
   "metadata": {},
   "outputs": [],
   "source": [
    "class CreateBot:\n",
    "    \n",
    "    def __init__(self,system_prompt):\n",
    "        \n",
    "        self.system = system_prompt\n",
    "        self.messages = [{'role':'system', 'content':system_prompt}]\n",
    "        \n",
    "    def chat(self):\n",
    "        \n",
    "        print('To terminate conversation, type \"END\"')\n",
    "        question = ''\n",
    "        \n",
    "        while question != 'END':\n",
    "            #user input\n",
    "            question = input(\"\")\n",
    "            print('\\n')\n",
    "            #add to messages list of dict\n",
    "            self.messages.append({'role':'user', 'content':question})\n",
    "        \n",
    "            #get response from chat gpt\n",
    "            response = openai.ChatCompletion.create(\n",
    "                                    model='gpt-3.5-turbo',\n",
    "                                    messages=self.messages)\n",
    "            #get assistant message \n",
    "            content = response['choices'][0]['message']['content']\n",
    "            print('\\n')\n",
    "            print(content)\n",
    "            print('\\n')\n",
    "            self.messages.append({'role':'assistant','content':content})\n"
   ]
  },
  {
   "cell_type": "code",
   "execution_count": 22,
   "id": "40e2d909",
   "metadata": {},
   "outputs": [],
   "source": [
    "history_tutor = CreateBot(system_prompt='You are a US History Tutor')"
   ]
  },
  {
   "cell_type": "code",
   "execution_count": 23,
   "id": "34846a00",
   "metadata": {},
   "outputs": [
    {
     "name": "stdout",
     "output_type": "stream",
     "text": [
      "To terminate conversation, type \"END\"\n",
      "Who was the second US president?\n",
      "\n",
      "\n",
      "\n",
      "\n",
      "John Adams was the second President of the United States, serving from 1797 to 1801 after George Washington.\n",
      "\n",
      "\n",
      "Where did he live?\n",
      "\n",
      "\n",
      "\n",
      "\n",
      "John Adams lived in several places throughout his life, but some of the notable locations include:\n",
      "\n",
      "- His birthplace in Quincy, Massachusetts\n",
      "- Braintree, Massachusetts (now known as Quincy), where he built his family home and lived with his wife Abigail and their children\n",
      "- Philadelphia, Pennsylvania, where he and his family lived during his presidency while the new capital city of Washington D.C. was under construction\n",
      "- Washington D.C., where he served as president and lived in the White House\n",
      "\n",
      "\n",
      "How were his travels to Europe?\n",
      "\n",
      "\n",
      "\n",
      "\n",
      "John Adams traveled to Europe several times throughout his life for various purposes, including diplomatic missions and personal trips. \n",
      "\n",
      "In 1778, he traveled to France as part of a diplomatic mission to seek support for the American Revolution. During his time there, he worked closely with Benjamin Franklin to negotiate a treaty with France, which ultimately helped secure French military and financial support for the American cause.\n",
      "\n",
      "In 1785, Adams went to London as the first-ever U.S. ambassador to Great Britain. During his time there, he worked to improve U.S.-British relations and negotiate a number of important treaties.\n",
      "\n",
      "Later in life, after his presidency was over, Adams went on a personal trip to Europe with his son, John Quincy Adams. They traveled to several countries, including England, France, and the Netherlands, and John Adams documented their travels in a series of letters to his wife Abigail.\n",
      "\n",
      "Overall, John Adams' travels to Europe were significant for both his diplomatic and personal endeavors and helped shape his views on international relations and politics.\n",
      "\n",
      "\n",
      "How was his trip to Mars?\n",
      "\n",
      "\n",
      "\n",
      "\n",
      "John Adams did not actually travel to Mars. While he was an important figure in American history and made several trips to Europe, he lived during a time when travel to other planets was not yet possible. \n",
      "\n",
      "Mars is a planet in our solar system that is located millions of miles away from Earth, and humans have not yet developed the technology to travel to it. While there have been many fictional stories about space travel to Mars, John Adams was not part of any such stories.\n",
      "\n",
      "It is important to differentiate between historical fact and fiction to avoid confusion and misinformation.\n",
      "\n",
      "\n",
      "How was his trip to Jupiter? Only answer if you are 100% confident.\n",
      "\n",
      "\n",
      "\n",
      "\n",
      "I'm sorry, but I cannot answer that question as it is not based on facts. John Adams lived during a time when space travel was not possible, and Jupiter is a gas giant planet located 365 million miles away from Earth. No human has ever traveled to Jupiter, and all information about it is based on observations made by telescopes and spacecraft.\n",
      "\n",
      "\n",
      "END\n",
      "\n",
      "\n",
      "\n",
      "\n",
      "Thank you. Let me know if you have any other questions.\n",
      "\n",
      "\n"
     ]
    }
   ],
   "source": [
    "history_tutor.chat()"
   ]
  },
  {
   "cell_type": "code",
   "execution_count": 24,
   "id": "c8aa8d63",
   "metadata": {},
   "outputs": [
    {
     "data": {
      "text/plain": [
       "[{'role': 'system', 'content': 'You are a US History Tutor'},\n",
       " {'role': 'user', 'content': 'Who was the second US president?'},\n",
       " {'role': 'assistant',\n",
       "  'content': 'John Adams was the second President of the United States, serving from 1797 to 1801 after George Washington.'},\n",
       " {'role': 'user', 'content': 'Where did he live?'},\n",
       " {'role': 'assistant',\n",
       "  'content': 'John Adams lived in several places throughout his life, but some of the notable locations include:\\n\\n- His birthplace in Quincy, Massachusetts\\n- Braintree, Massachusetts (now known as Quincy), where he built his family home and lived with his wife Abigail and their children\\n- Philadelphia, Pennsylvania, where he and his family lived during his presidency while the new capital city of Washington D.C. was under construction\\n- Washington D.C., where he served as president and lived in the White House'},\n",
       " {'role': 'user', 'content': 'How were his travels to Europe?'},\n",
       " {'role': 'assistant',\n",
       "  'content': \"John Adams traveled to Europe several times throughout his life for various purposes, including diplomatic missions and personal trips. \\n\\nIn 1778, he traveled to France as part of a diplomatic mission to seek support for the American Revolution. During his time there, he worked closely with Benjamin Franklin to negotiate a treaty with France, which ultimately helped secure French military and financial support for the American cause.\\n\\nIn 1785, Adams went to London as the first-ever U.S. ambassador to Great Britain. During his time there, he worked to improve U.S.-British relations and negotiate a number of important treaties.\\n\\nLater in life, after his presidency was over, Adams went on a personal trip to Europe with his son, John Quincy Adams. They traveled to several countries, including England, France, and the Netherlands, and John Adams documented their travels in a series of letters to his wife Abigail.\\n\\nOverall, John Adams' travels to Europe were significant for both his diplomatic and personal endeavors and helped shape his views on international relations and politics.\"},\n",
       " {'role': 'user', 'content': 'How was his trip to Mars?'},\n",
       " {'role': 'assistant',\n",
       "  'content': 'John Adams did not actually travel to Mars. While he was an important figure in American history and made several trips to Europe, he lived during a time when travel to other planets was not yet possible. \\n\\nMars is a planet in our solar system that is located millions of miles away from Earth, and humans have not yet developed the technology to travel to it. While there have been many fictional stories about space travel to Mars, John Adams was not part of any such stories.\\n\\nIt is important to differentiate between historical fact and fiction to avoid confusion and misinformation.'},\n",
       " {'role': 'user',\n",
       "  'content': 'How was his trip to Jupiter? Only answer if you are 100% confident.'},\n",
       " {'role': 'assistant',\n",
       "  'content': \"I'm sorry, but I cannot answer that question as it is not based on facts. John Adams lived during a time when space travel was not possible, and Jupiter is a gas giant planet located 365 million miles away from Earth. No human has ever traveled to Jupiter, and all information about it is based on observations made by telescopes and spacecraft.\"},\n",
       " {'role': 'user', 'content': 'END'},\n",
       " {'role': 'assistant',\n",
       "  'content': 'Thank you. Let me know if you have any other questions.'}]"
      ]
     },
     "execution_count": 24,
     "metadata": {},
     "output_type": "execute_result"
    }
   ],
   "source": [
    "history_tutor.messages"
   ]
  },
  {
   "cell_type": "code",
   "execution_count": 25,
   "id": "971423ea",
   "metadata": {},
   "outputs": [],
   "source": [
    "full_text = ''\n",
    "for item in history_tutor.messages:\n",
    "    full_text += item['content']"
   ]
  },
  {
   "cell_type": "code",
   "execution_count": 27,
   "id": "a0507e49",
   "metadata": {},
   "outputs": [
    {
     "data": {
      "text/plain": [
       "475"
      ]
     },
     "execution_count": 27,
     "metadata": {},
     "output_type": "execute_result"
    }
   ],
   "source": [
    "len(full_text.split())"
   ]
  },
  {
   "cell_type": "code",
   "execution_count": null,
   "id": "693c8b0c",
   "metadata": {},
   "outputs": [],
   "source": []
  }
 ],
 "metadata": {
  "kernelspec": {
   "display_name": "Python 3",
   "language": "python",
   "name": "python3"
  },
  "language_info": {
   "codemirror_mode": {
    "name": "ipython",
    "version": 3
   },
   "file_extension": ".py",
   "mimetype": "text/x-python",
   "name": "python",
   "nbconvert_exporter": "python",
   "pygments_lexer": "ipython3",
   "version": "3.8.8"
  }
 },
 "nbformat": 4,
 "nbformat_minor": 5
}
